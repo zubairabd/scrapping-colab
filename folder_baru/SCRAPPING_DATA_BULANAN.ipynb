{
  "nbformat": 4,
  "nbformat_minor": 0,
  "metadata": {
    "colab": {
      "provenance": [],
      "authorship_tag": "ABX9TyMP6ujoM9fWqctl028QAte1",
      "include_colab_link": true
    },
    "kernelspec": {
      "name": "python3",
      "display_name": "Python 3"
    },
    "language_info": {
      "name": "python"
    }
  },
  "cells": [
    {
      "cell_type": "markdown",
      "metadata": {
        "id": "view-in-github",
        "colab_type": "text"
      },
      "source": [
        "<a href=\"https://colab.research.google.com/github/zubairabd/scrapping-colab/blob/main/SCRAPPING_DATA_BULANAN.ipynb\" target=\"_parent\"><img src=\"https://colab.research.google.com/assets/colab-badge.svg\" alt=\"Open In Colab\"/></a>"
      ]
    },
    {
      "cell_type": "code",
      "execution_count": null,
      "metadata": {
        "colab": {
          "base_uri": "https://localhost:8080/",
          "height": 243
        },
        "id": "9XoN_ar1z_1P",
        "outputId": "4af09757-8706-4960-9d4d-5b0a9d748a12"
      },
      "outputs": [
        {
          "output_type": "stream",
          "name": "stdout",
          "text": [
            "        Grid     Jan     Feb     Mar     Apr     Mei     Jun     Jul     Agu  \\\n",
            "0  TRMM-2096  366.47  328.00  301.39  247.59  145.80   86.85   66.92   22.56   \n",
            "1  TRMM-2097  391.05  325.18  313.95  242.39  137.71   88.20   54.50   19.01   \n",
            "2  TRMM-2098  398.70  311.38  307.39  231.83  136.20  100.23   54.99   17.36   \n",
            "3  TRMM-2116  351.52  353.46  351.76  345.80  290.38  181.99  161.46  140.08   \n",
            "4  TRMM-2117  368.68  361.90  359.90  358.12  277.46  155.20  138.28  106.03   \n",
            "\n",
            "      Sep     Okt     Nov     Des   Tahunan  \n",
            "0   44.00  107.19  239.13  276.00  2,231.91  \n",
            "1   35.44   87.78  225.87  291.07  2,212.18  \n",
            "2   30.21   78.32  212.08  305.18  2,183.88  \n",
            "3  182.43  306.49  385.09  328.96  3,379.42  \n",
            "4  162.52  294.50  377.92  329.23  3,289.74  \n"
          ]
        },
        {
          "output_type": "display_data",
          "data": {
            "text/plain": [
              "<IPython.core.display.Javascript object>"
            ],
            "application/javascript": [
              "\n",
              "    async function download(id, filename, size) {\n",
              "      if (!google.colab.kernel.accessAllowed) {\n",
              "        return;\n",
              "      }\n",
              "      const div = document.createElement('div');\n",
              "      const label = document.createElement('label');\n",
              "      label.textContent = `Downloading \"${filename}\": `;\n",
              "      div.appendChild(label);\n",
              "      const progress = document.createElement('progress');\n",
              "      progress.max = size;\n",
              "      div.appendChild(progress);\n",
              "      document.body.appendChild(div);\n",
              "\n",
              "      const buffers = [];\n",
              "      let downloaded = 0;\n",
              "\n",
              "      const channel = await google.colab.kernel.comms.open(id);\n",
              "      // Send a message to notify the kernel that we're ready.\n",
              "      channel.send({})\n",
              "\n",
              "      for await (const message of channel.messages) {\n",
              "        // Send a message to notify the kernel that we're ready.\n",
              "        channel.send({})\n",
              "        if (message.buffers) {\n",
              "          for (const buffer of message.buffers) {\n",
              "            buffers.push(buffer);\n",
              "            downloaded += buffer.byteLength;\n",
              "            progress.value = downloaded;\n",
              "          }\n",
              "        }\n",
              "      }\n",
              "      const blob = new Blob(buffers, {type: 'application/binary'});\n",
              "      const a = document.createElement('a');\n",
              "      a.href = window.URL.createObjectURL(blob);\n",
              "      a.download = filename;\n",
              "      div.appendChild(a);\n",
              "      a.click();\n",
              "      div.remove();\n",
              "    }\n",
              "  "
            ]
          },
          "metadata": {}
        },
        {
          "output_type": "display_data",
          "data": {
            "text/plain": [
              "<IPython.core.display.Javascript object>"
            ],
            "application/javascript": [
              "download(\"download_ad02d5be-e66b-4e70-8fc1-abdad945d763\", \"curah_hujan_rata2.csv\", 4354)"
            ]
          },
          "metadata": {}
        }
      ],
      "source": [
        "import requests\n",
        "from bs4 import BeautifulSoup\n",
        "import pandas as pd\n",
        "from google.colab import files\n",
        "\n",
        "# Daftar grid\n",
        "grids = [\n",
        "    2096,2097,2098,2116,2117,2118,2119,2120,2121,2122,2123,\n",
        "    2138,2139,2140,2141,2142,2143,2144,2145,2146,\n",
        "    2170,2171,2172,2173,2174,2175,2176,2177,2178,\n",
        "    2211,2212,2213,2214,2215,2216,2217,2218,2219,\n",
        "    2248,2249,2250,2251\n",
        "]\n",
        "\n",
        "# Nama bulan\n",
        "bulan = [\"Jan\",\"Feb\",\"Mar\",\"Apr\",\"Mei\",\"Jun\",\"Jul\",\"Agu\",\"Sep\",\"Okt\",\"Nov\",\"Des\",\"Tahunan\"]\n",
        "\n",
        "data_all = []\n",
        "\n",
        "for grid in grids:\n",
        "    url = f\"https://hidrologi.net/hujanbulanantrmm/{grid}\"\n",
        "    try:\n",
        "        resp = requests.get(url, timeout=15)\n",
        "        resp.raise_for_status()\n",
        "    except Exception as e:\n",
        "        print(f\"Gagal akses TRMM-{grid}: {e}\")\n",
        "        continue\n",
        "\n",
        "    soup = BeautifulSoup(resp.text, \"html.parser\")\n",
        "    rows = soup.find_all(\"tr\")\n",
        "\n",
        "    rata_rata_data = None\n",
        "    for row in rows:\n",
        "        cells = [c.get_text(strip=True) for c in row.find_all(\"td\")]\n",
        "        if cells and cells[0].startswith(\"Rata-rata\"):\n",
        "            rata_rata_data = cells[1:]\n",
        "            break\n",
        "\n",
        "    if rata_rata_data and len(rata_rata_data) >= 13:\n",
        "        hasil = {\"Grid\": f\"TRMM-{grid}\"}\n",
        "        for i in range(len(bulan)):\n",
        "            hasil[bulan[i]] = rata_rata_data[i]\n",
        "        data_all.append(hasil)\n",
        "    else:\n",
        "        print(f\"Tidak menemukan data rata-rata untuk TRMM-{grid}\")\n",
        "\n",
        "# Gabung semua ke dataframe\n",
        "df = pd.DataFrame(data_all)\n",
        "\n",
        "# Simpan ke file dengan nama tetap\n",
        "filename = \"curah_hujan_rata2.csv\"\n",
        "df.to_csv(filename, index=False)\n",
        "\n",
        "# Tampilkan sebagian isi\n",
        "print(df.head())\n",
        "\n",
        "# Download otomatis\n",
        "files.download(filename)\n"
      ]
    }
  ]
}
